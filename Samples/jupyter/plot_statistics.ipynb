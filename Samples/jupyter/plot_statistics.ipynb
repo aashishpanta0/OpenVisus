{
 "cells": [
  {
   "cell_type": "code",
   "execution_count": 1,
   "id": "5692257e",
   "metadata": {},
   "outputs": [
    {
     "name": "stdout",
     "output_type": "stream",
     "text": [
      "Starting OpenVisus C:\\Python38\\lib\\site-packages\\OpenVisus\\__init__.py 3.8.0 (tags/v3.8.0:fa919fd, Oct 14 2019, 19:37:50) [MSC v.1916 64 bit (AMD64)] sys.version_info(major=3, minor=8, micro=0, releaselevel='final', serial=0) ...\n"
     ]
    }
   ],
   "source": [
    "%matplotlib notebook \n",
    "\n",
    "import random,threading,os,sys,asyncio\n",
    "from time import sleep\n",
    "import pandas as pd\n",
    "import numpy as np\n",
    "import ipympl\n",
    "from ipywidgets import interactive\n",
    "import matplotlib.pyplot as plt\n",
    "from threading import Thread\n",
    "\n",
    "sys.path.append(r\"C:\\projects\\OpenVisus\\build\\RelWithDebInfo\")\n",
    "from OpenVisus import *"
   ]
  },
  {
   "cell_type": "code",
   "execution_count": 2,
   "id": "13c2ad8c",
   "metadata": {},
   "outputs": [],
   "source": [
    "db=LoadDataset('http://atlantis.sci.utah.edu/mod_visus?dataset=2kbit1')\n",
    "logic_box=db.getLogicBox()\n",
    "dims=[logic_box[1][I]-logic_box[0][I] for I in range(3)]\n",
    "\n",
    "def ReadSlice(db,axis,offset,quality):\n",
    "    if axis==0:\n",
    "        data=db.read(x=[offset,offset+1], quality=quality)\n",
    "        return data[:,:,0]\n",
    "    elif axis==1:\n",
    "        data=db.read(y=[offset,offset+1], quality=quality)\n",
    "        return data[:,0,:]\n",
    "    else:\n",
    "        data=db.read(z=[offset,offset+1], quality=quality)\n",
    "        return data[0,:,:]"
   ]
  },
  {
   "cell_type": "code",
   "execution_count": 3,
   "id": "4eeca3d6",
   "metadata": {},
   "outputs": [
    {
     "data": {
      "application/vnd.jupyter.widget-view+json": {
       "model_id": "483b307395574ca0ae6ccab2f2f717f8",
       "version_major": 2,
       "version_minor": 0
      },
      "text/html": [
       "\n",
       "            <div style=\"display: inline-block;\">\n",
       "                <div class=\"jupyter-widgets widget-label\" style=\"text-align: center;\">\n",
       "                    Figure\n",
       "                </div>\n",
       "                <img src='data:image/png;base64,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' width=640.0/>\n",
       "            </div>\n",
       "        "
      ],
      "text/plain": [
       "Canvas(toolbar=Toolbar(toolitems=[('Home', 'Reset original view', 'home', 'home'), ('Back', 'Back to previous …"
      ]
     },
     "metadata": {},
     "output_type": "display_data"
    }
   ],
   "source": [
    "class ShowStatistics(Thread):\n",
    "    \n",
    "    # constructor\n",
    "    def __init__(self,db,axis,quality):\n",
    "        Thread.__init__(self)\n",
    "        \n",
    "        self.db=db\n",
    "        self.axis=axis\n",
    "        self.quality=quality\n",
    "        self.repaint=True\n",
    "        self.data=None\n",
    "        self.logic_box=self.db.getLogicBox()\n",
    "        self.dims=[self.logic_box[1][I]-self.logic_box[0][I] for I in range(3)]         \n",
    "    \n",
    "        # statistics\n",
    "        self.x=range(self.dims[self.axis])\n",
    "        self.y=[0]*self.dims[self.axis]  \n",
    "\n",
    "        self.fig, self.axs = plt.subplots(2)\n",
    "        self.start()\n",
    "        # self.run()\n",
    "        plt.show()\n",
    "\n",
    "        \n",
    "    # run\n",
    "    def run(self):\n",
    "        for offset in range(self.dims[self.axis]):\n",
    "            \n",
    "            sleep(0.05) # to tune!\n",
    "            \n",
    "            try:\n",
    "                self.data=ReadSlice(self.db,self.axis,offset,self.quality)\n",
    "            except:\n",
    "                pass\n",
    "\n",
    "            # count non zero pixels\n",
    "            self.y[offset]=np.count_nonzero((self.data>80)*255)            \n",
    "            \n",
    "            #self.y=np.random.uniform(low=0, high=4000,size=len(self.x,))\n",
    "            self.axs[0].cla() \n",
    "            self.axs[1].cla()\n",
    "            self.axs[0].plot(self.x,self.y,color=\"blue\")\n",
    "            self.axs[1].imshow(self.data, origin='lower',cmap='gray') \n",
    "            plt.draw()\n",
    "        \n",
    "\n",
    "\n",
    "s=ShowStatistics(db,axis=0,quality=-15)"
   ]
  },
  {
   "cell_type": "code",
   "execution_count": 4,
   "id": "0c403920",
   "metadata": {},
   "outputs": [
    {
     "data": {
      "text/plain": [
       "'\\nclass Job(Thread):\\n    \\n    # constructor\\n    def __init__(self):\\n        Thread.__init__(self)\\n        self.fig, self.ax = plt.subplots(2)\\n        self.output=[]\\n        self.start()\\n        plt.show()\\n        \\n    # run\\n    def run(self):\\n        for i in range(10):\\n            self.output.append(np.random.rand())\\n            self.ax[0].cla()\\n            self.ax[0].plot(self.output)\\n            self.ax[1].cla()\\n            self.ax[1].plot(self.output)\\n            plt.draw()\\n            sleep(0.3)\\n\\njob = Job()\\n'"
      ]
     },
     "execution_count": 4,
     "metadata": {},
     "output_type": "execute_result"
    }
   ],
   "source": [
    "\"\"\"\n",
    "class Job(Thread):\n",
    "    \n",
    "    # constructor\n",
    "    def __init__(self):\n",
    "        Thread.__init__(self)\n",
    "        self.fig, self.ax = plt.subplots(2)\n",
    "        self.output=[]\n",
    "        self.start()\n",
    "        plt.show()\n",
    "        \n",
    "    # run\n",
    "    def run(self):\n",
    "        for i in range(10):\n",
    "            self.output.append(np.random.rand())\n",
    "            self.ax[0].cla()\n",
    "            self.ax[0].plot(self.output)\n",
    "            self.ax[1].cla()\n",
    "            self.ax[1].plot(self.output)\n",
    "            plt.draw()\n",
    "            sleep(0.3)\n",
    "\n",
    "job = Job()\n",
    "\"\"\""
   ]
  },
  {
   "cell_type": "code",
   "execution_count": null,
   "id": "8d5f84b1",
   "metadata": {},
   "outputs": [],
   "source": []
  }
 ],
 "metadata": {
  "kernelspec": {
   "display_name": "Python 3 (ipykernel)",
   "language": "python",
   "name": "python3"
  },
  "language_info": {
   "codemirror_mode": {
    "name": "ipython",
    "version": 3
   },
   "file_extension": ".py",
   "mimetype": "text/x-python",
   "name": "python",
   "nbconvert_exporter": "python",
   "pygments_lexer": "ipython3",
   "version": "3.8.0"
  }
 },
 "nbformat": 4,
 "nbformat_minor": 5
}
