{
 "cells": [
  {
   "cell_type": "code",
   "execution_count": 1,
   "metadata": {},
   "outputs": [
    {
     "name": "stdout",
     "output_type": "stream",
     "text": [
      "Starting OpenVisus c:\\python38\\lib\\site-packages\\OpenVisus\\__init__.py 3.8.6 (tags/v3.8.6:db45529, Sep 23 2020, 15:52:53) [MSC v.1927 64 bit (AMD64)] sys.version_info(major=3, minor=8, micro=6, releaselevel='final', serial=0) ...\n"
     ]
    }
   ],
   "source": [
    "import os,sys,math,numpy\n",
    "from PIL import Image\n",
    "from urllib.request import urlopen\n",
    "import matplotlib.pyplot as plt\n",
    "\n",
    "# you must have openvisus installed\n",
    "# python -m pip install --upgrade OpenVisus\n",
    "from OpenVisus import *\n",
    "\n",
    "# LoadImage (example: img=LoadImage(\"https://github.com/sci-visus/OpenVisus/raw/master/datasets/cat/gray.png\"))\n",
    "def LoadImage(filename):\n",
    "\treturn numpy.asarray(PIL.Image.open(urlopen(filename)  if filename.startswith('http') else filename))\n"
   ]
  },
  {
   "cell_type": "code",
   "execution_count": 2,
   "metadata": {},
   "outputs": [
    {
     "name": "stdout",
     "output_type": "stream",
     "text": [
      "logic_box ([0, 0, 0], [2160, 2160, 2560])\n",
      "ranges [(0, 2160), (0, 2160), (0, 2560)]\n",
      "dims [2160, 2160, 2560]\n",
      "Field xray float32 44GB\n",
      "Field neutron float32 44GB\n"
     ]
    }
   ],
   "source": [
    "db=LoadDataset(r'D:\\GoogleSci\\visus_dataset\\TALASS\\ACAM\\battery.idx')\n",
    "logic_box=db.getLogicBox()\n",
    "dims=logic_box[1]\n",
    "ranges=[(logic_box[0][I],logic_box[1][I]) for I in range(3)]\n",
    "print(\"logic_box\",logic_box)\n",
    "print(\"ranges\",ranges)\n",
    "print(\"dims\",dims)\n",
    "\n",
    "fields=[db.getField(name) for name in db.getFields()]\n",
    "for field in fields:\n",
    "    dtype=field.dtype\n",
    "    GB=int(dims[0]*dims[1]*dims[2]*dtype.getByteSize()/(1024*1024*1024))\n",
    "    print(\"Field\",field.name, dtype.toString(), \"{}GB\".format(GB))"
   ]
  },
  {
   "cell_type": "code",
   "execution_count": 11,
   "metadata": {
    "scrolled": false
   },
   "outputs": [],
   "source": [
    "def ShowImage(data,width=10):\n",
    "    if len(data.shape)==3 and data.shape[0]==1: data=data[0,:,:]\n",
    "    if len(data.shape)==3 and data.shape[1]==1: data=data[:,0,:]   \n",
    "    if len(data.shape)==3 and data.shape[2]==1: data=data[:,:,0]    \n",
    "    w,h=data.shape\n",
    "    my_dpi=96 # monitor dpi\n",
    "    fig = plt.figure(figsize=(w/my_dpi, h/my_dpi), dpi=my_dpi)\n",
    "    ax = fig.add_subplot(1,1,1)\n",
    "    ax.imshow(data, origin='lower', interpolation='None')\n",
    "    plt.show()\n",
    "\n",
    "def ShowSlice(axis,max_pixels=1024*1024):\n",
    "\n",
    "    def ExtractSlice(offset,num_refinements): \n",
    "        \n",
    "        x,y,z=(\n",
    "            ranges[0] if axis!=0 else [offset,offset+1],\n",
    "            ranges[1] if axis!=1 else [offset,offset+1],\n",
    "            ranges[2] if axis!=2 else [offset,offset+1]\n",
    "        )    \n",
    "\n",
    "        # guess quality\n",
    "        quality=0\n",
    "        tot_pixels=(x[1]-x[0]) * (y[1]-y[0]) * (z[1]-z[0])\n",
    "        while tot_pixels >= max_pixels:\n",
    "            quality-=1\n",
    "            tot_pixels=int(tot_pixels/2)       \n",
    "\n",
    "        print(\"Extracting slice\",\"quality\",quality,\"num_refinements\",num_refinements,\"x\",x,\"y\",y,\"z\",z)   \n",
    "        \n",
    "        while True:\n",
    "            try:\n",
    "                for data in db.read(x=x,y=y,z=z,num_refinements=num_refinements,quality=quality):\n",
    "                    print(\"...got data\",data.shape,data.dtype) \n",
    "                    ShowImage(data)  \n",
    "                break\n",
    "            except:\n",
    "                # it can fail because the quality is too low\n",
    "                print(\"increasing quality...\")\n",
    "                quality+=1\n",
    "    \n",
    "    \n",
    "    # c:\\Python38\\python.exe -m pip install ipywidgets\n",
    "    # c:\\Python38\\Scripts\\jupyter nbextension enable --py widgetsnbextension\n",
    "    import ipywidgets\n",
    "    \n",
    "    ipywidgets.interact(\n",
    "        ExtractSlice, \n",
    "        offset=ipywidgets.widgets.IntSlider(int(dims[axis]/2),min=0,max=dims[axis]-1,step=1), \n",
    "        num_refinements=ipywidgets.widgets.IntSlider(4,min=1,max=6,step=1))\n"
   ]
  },
  {
   "cell_type": "code",
   "execution_count": 13,
   "metadata": {},
   "outputs": [
    {
     "data": {
      "application/vnd.jupyter.widget-view+json": {
       "model_id": "a4d1bde997bc4db180980845c051cb64",
       "version_major": 2,
       "version_minor": 0
      },
      "text/plain": [
       "interactive(children=(IntSlider(value=1080, description='offset', max=2159), IntSlider(value=4, description='n…"
      ]
     },
     "metadata": {},
     "output_type": "display_data"
    }
   ],
   "source": [
    "ShowSlice(0)"
   ]
  },
  {
   "cell_type": "code",
   "execution_count": 14,
   "metadata": {},
   "outputs": [
    {
     "data": {
      "application/vnd.jupyter.widget-view+json": {
       "model_id": "15fbfd8608af4b539b426e1f07ed257f",
       "version_major": 2,
       "version_minor": 0
      },
      "text/plain": [
       "interactive(children=(IntSlider(value=1080, description='offset', max=2159), IntSlider(value=4, description='n…"
      ]
     },
     "metadata": {},
     "output_type": "display_data"
    }
   ],
   "source": [
    "ShowSlice(1)"
   ]
  },
  {
   "cell_type": "code",
   "execution_count": 16,
   "metadata": {
    "scrolled": true
   },
   "outputs": [
    {
     "data": {
      "application/vnd.jupyter.widget-view+json": {
       "model_id": "365d8846b6ad4f2694d0b4ef5fe86355",
       "version_major": 2,
       "version_minor": 0
      },
      "text/plain": [
       "interactive(children=(IntSlider(value=1280, description='offset', max=2559), IntSlider(value=4, description='n…"
      ]
     },
     "metadata": {},
     "output_type": "display_data"
    }
   ],
   "source": [
    "ShowSlice(2)"
   ]
  },
  {
   "cell_type": "code",
   "execution_count": null,
   "metadata": {},
   "outputs": [],
   "source": []
  }
 ],
 "metadata": {
  "kernelspec": {
   "display_name": "Python 3",
   "language": "python",
   "name": "python3"
  },
  "language_info": {
   "codemirror_mode": {
    "name": "ipython",
    "version": 3
   },
   "file_extension": ".py",
   "mimetype": "text/x-python",
   "name": "python",
   "nbconvert_exporter": "python",
   "pygments_lexer": "ipython3",
   "version": "3.8.6"
  }
 },
 "nbformat": 4,
 "nbformat_minor": 4
}
