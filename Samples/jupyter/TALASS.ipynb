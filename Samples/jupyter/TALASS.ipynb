{
 "cells": [
  {
   "cell_type": "code",
   "execution_count": 1,
   "metadata": {},
   "outputs": [
    {
     "name": "stdout",
     "output_type": "stream",
     "text": [
      "Starting OpenVisus c:\\python38\\lib\\site-packages\\OpenVisus\\__init__.py 3.8.6 (tags/v3.8.6:db45529, Sep 23 2020, 15:52:53) [MSC v.1927 64 bit (AMD64)] sys.version_info(major=3, minor=8, micro=6, releaselevel='final', serial=0) ...\n"
     ]
    }
   ],
   "source": [
    "import os,sys,math,numpy\n",
    "from PIL import Image\n",
    "from urllib.request import urlopen\n",
    "import matplotlib.pyplot as plt\n",
    "\n",
    "# you must have openvisus installed\n",
    "# python -m pip install --upgrade OpenVisus\n",
    "from OpenVisus import *\n",
    "\n",
    "# LoadImage (example: img=LoadImage(\"https://github.com/sci-visus/OpenVisus/raw/master/datasets/cat/gray.png\"))\n",
    "def LoadImage(filename):\n",
    "\treturn numpy.asarray(PIL.Image.open(urlopen(filename)  if filename.startswith('http') else filename))"
   ]
  },
  {
   "cell_type": "code",
   "execution_count": 2,
   "metadata": {},
   "outputs": [
    {
     "name": "stdout",
     "output_type": "stream",
     "text": [
      "logic_box ([0, 0, 0], [2160, 2160, 2560])\n",
      "ranges [(0, 2160), (0, 2160), (0, 2560)]\n",
      "dims [2160, 2160, 2560]\n",
      "Field xray float32 44GB\n",
      "Field neutron float32 44GB\n"
     ]
    }
   ],
   "source": [
    "db=LoadDataset(r'D:\\GoogleSci\\visus_dataset\\TALASS\\ACAM\\battery.idx')\n",
    "logic_box=db.getLogicBox()\n",
    "dims=logic_box[1]\n",
    "ranges=[(logic_box[0][I],logic_box[1][I]) for I in range(3)]\n",
    "print(\"logic_box\",logic_box)\n",
    "print(\"ranges\",ranges)\n",
    "print(\"dims\",dims)\n",
    "\n",
    "fields=[db.getField(name) for name in db.getFields()]\n",
    "for field in fields:\n",
    "    dtype=field.dtype\n",
    "    GB=int(dims[0]*dims[1]*dims[2]*dtype.getByteSize()/(1024*1024*1024))\n",
    "    print(\"Field\",field.name, dtype.toString(), \"{}GB\".format(GB))"
   ]
  },
  {
   "cell_type": "code",
   "execution_count": 3,
   "metadata": {
    "scrolled": false
   },
   "outputs": [
    {
     "data": {
      "application/vnd.jupyter.widget-view+json": {
       "model_id": "f1e8fc937bc34fb2bcebd2076be45c0d",
       "version_major": 2,
       "version_minor": 0
      },
      "text/plain": [
       "interactive(children=(IntSlider(value=0, description='axis', max=2), IntSlider(value=1080, description='offset…"
      ]
     },
     "metadata": {},
     "output_type": "display_data"
    },
    {
     "data": {
      "text/plain": [
       "<function __main__.ExtractSlice(axis, offset, num_refinements)>"
      ]
     },
     "execution_count": 3,
     "metadata": {},
     "output_type": "execute_result"
    }
   ],
   "source": [
    "# IMPORTANT: FOR VALERIO run this\n",
    "# c:\\Python38\\python.exe -m pip install ipywidgets\n",
    "# c:\\Python38\\Scripts\\jupyter.exe nbextension enable --py widgetsnbextension\n",
    "\n",
    "%matplotlib notebook\n",
    "import ipywidgets\n",
    "\n",
    "MAX_PIXELS=1024*1024\n",
    "\n",
    "def ExtractSlice(axis ,offset, num_refinements): \n",
    "\n",
    "    x,y,z=(\n",
    "        ranges[0] if axis!=0 else [offset,offset+1],\n",
    "        ranges[1] if axis!=1 else [offset,offset+1],\n",
    "        ranges[2] if axis!=2 else [offset,offset+1])\n",
    "\n",
    "    # guess quality\n",
    "    quality=0\n",
    "    tot_pixels=(x[1]-x[0]) * (y[1]-y[0]) * (z[1]-z[0])\n",
    "    while tot_pixels >= MAX_PIXELS:\n",
    "        quality-=1\n",
    "        tot_pixels=int(tot_pixels/2) \n",
    "\n",
    "    print(\"Extracting slice\",\"quality\",quality,\"num_refinements\",num_refinements,\"x\",x,\"y\",y,\"z\",z)   \n",
    "    \n",
    "    fig = plt.figure(figsize=(6, 6),frameon=False)\n",
    "    fig.tight_layout()\n",
    "   \n",
    "    sub = fig.add_subplot(1,1,1) \n",
    "    sub.axis('off')    \n",
    "    \n",
    "    while True:\n",
    "        try:\n",
    "            cont=0\n",
    "            for data in db.read(x=x,y=y,z=z,num_refinements=num_refinements,quality=quality):\n",
    "                # print(\"cont\",cont,\"{} {} quality({})\".format(data.shape,data.dtype,quality));cont+=1\n",
    "                if len(data.shape)==3 and data.shape[0]==1: data=data[0,:,:]\n",
    "                if len(data.shape)==3 and data.shape[1]==1: data=data[:,0,:]   \n",
    "                if len(data.shape)==3 and data.shape[2]==1: data=data[:,:,0] \n",
    "                sub.set_title(\"{} {} quality({})\".format(data.shape,data.dtype,quality))\n",
    "                sub.imshow(data)\n",
    "                fig.canvas.draw()\n",
    "            break\n",
    "        except:\n",
    "            #it can fail because the quality is too low\n",
    "            print(\"increasing quality\")\n",
    "            quality+=1\n",
    "\n",
    "def OnAxisChange(*args):\n",
    "    axis=axis_slider.value\n",
    "    offset_slider.max=dims[axis]-1\n",
    "    offset_slider.value=int(dims[axis]/2)      \n",
    "\n",
    "axis_slider=ipywidgets.IntSlider(min=0, max=2, step=1, value=0)\n",
    "offset_slider=ipywidgets.IntSlider(min=0, max=dims[0]-1, step=1, value=int(dims[0]/2))\n",
    "num_refinements_slider=ipywidgets.IntSlider(min=1, max=6, step=1, value=3)\n",
    "\n",
    "axis_slider.observe(OnAxisChange, 'value')\n",
    "\n",
    "# replace with 'interact' if you don't want to press any button\n",
    "ipywidgets.interact_manual(\n",
    "    ExtractSlice, \n",
    "    axis=axis_slider, \n",
    "    offset= offset_slider, \n",
    "    num_refinements=num_refinements_slider)"
   ]
  },
  {
   "cell_type": "code",
   "execution_count": null,
   "metadata": {},
   "outputs": [],
   "source": []
  }
 ],
 "metadata": {
  "kernelspec": {
   "display_name": "Python 3",
   "language": "python",
   "name": "python3"
  },
  "language_info": {
   "codemirror_mode": {
    "name": "ipython",
    "version": 3
   },
   "file_extension": ".py",
   "mimetype": "text/x-python",
   "name": "python",
   "nbconvert_exporter": "python",
   "pygments_lexer": "ipython3",
   "version": "3.8.6"
  }
 },
 "nbformat": 4,
 "nbformat_minor": 4
}
