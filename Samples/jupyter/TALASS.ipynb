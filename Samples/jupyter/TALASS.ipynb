{
 "cells": [
  {
   "cell_type": "code",
   "execution_count": 4,
   "metadata": {},
   "outputs": [],
   "source": [
    "import os,sys,math,numpy\n",
    "import PIL \n",
    "import matplotlib.pyplot as plt\n",
    "from urllib.request import urlopen\n",
    "\n",
    "# you must have openvisus installed\n",
    "# python -m pip install --upgrade OpenVisus\n",
    "from OpenVisus import *\n",
    "\n",
    "# LoadImage (example: img=LoadImage(\"https://github.com/sci-visus/OpenVisus/raw/master/datasets/cat/gray.png\"))\n",
    "def LoadImage(filename):\n",
    "\treturn numpy.asarray(PIL.Image.open(urlopen(filename)  if filename.startswith('http') else filename))\n",
    "\n",
    "def ShowImage(data,width=10):\n",
    "\tratio=float(data.shape[1])/data.shape[0]\n",
    "\tfig = plt.figure(figsize = (width,width*ratio))\n",
    "\tax = fig.add_subplot(1,1,1)\n",
    "\tax.imshow(data, origin='lower')\n",
    "\tplt.show()"
   ]
  },
  {
   "cell_type": "code",
   "execution_count": 2,
   "metadata": {},
   "outputs": [
    {
     "name": "stdout",
     "output_type": "stream",
     "text": [
      "DIMS [2048, 2048, 2048]\n",
      "Field DATA uint8 8GB\n"
     ]
    }
   ],
   "source": [
    "db=LoadDataset('http://atlantis.sci.utah.edu/mod_visus?dataset=2kbit1')\n",
    "dims=db.getLogicBox()[1]\n",
    "print(\"DIMS\",dims)\n",
    "\n",
    "fields=[db.getField(name) for name in db.getFields()]\n",
    "for field in fields:\n",
    "    dtype=field.dtype\n",
    "    print(\"Field\",field.name, dtype.toString(),\n",
    "         \"{}GB\".format(int(dims[0]*dims[1]*dims[2]*dtype.getByteSize()/(1024*1024*1024))))"
   ]
  },
  {
   "cell_type": "code",
   "execution_count": 11,
   "metadata": {
    "scrolled": false
   },
   "outputs": [
    {
     "data": {
      "application/vnd.jupyter.widget-view+json": {
       "model_id": "9d63e3aced3a49e8bc405b6be612df80",
       "version_major": 2,
       "version_minor": 0
      },
      "text/plain": [
       "interactive(children=(IntSlider(value=1024, description='offset', max=2047), IntSlider(value=3, description='n…"
      ]
     },
     "metadata": {},
     "output_type": "display_data"
    },
    {
     "data": {
      "text/plain": [
       "<function __main__.ExtractZSlice(offset, num_refinements)>"
      ]
     },
     "execution_count": 11,
     "metadata": {},
     "output_type": "execute_result"
    }
   ],
   "source": [
    "import ipywidgets\n",
    "\n",
    "quality=-6\n",
    "\n",
    "def ExtractData(x,y,z,num_refinements,):\n",
    "    for data in db.read(x=x,y=y,z=z,num_refinements=num_refinements,quality=quality):\n",
    "        ShowImage(data[0,:,:])    \n",
    "\n",
    "def ExtractXSlice(offset,num_refinements):\n",
    "    ExtractData([offset,offset+1],[0,dims[1]],[0,dims[2]],num_refinements)\n",
    "    \n",
    "def ExtractYSlice(offset,num_refinements):\n",
    "    ExtractData([0,dims[0]],[offset,offset+1],[0,dims[2]],num_refinements)    \n",
    "        \n",
    "\n",
    "def ExtractZSlice(offset,num_refinements):\n",
    "    ExtractData([0,dims[0]],[0,dims[1]],[offset,offset+1],num_refinements)\n",
    "\n",
    "ipywidgets.interact(\n",
    "    ExtractZSlice,\n",
    "    offset=ipywidgets.widgets.IntSlider(value=int(dims[2]/2),min=0,max=dims[2]-1,step=1),\n",
    "    num_refinements=ipywidgets.widgets.IntSlider(value=3,min=1,max=6,step=1))"
   ]
  },
  {
   "cell_type": "code",
   "execution_count": null,
   "metadata": {},
   "outputs": [],
   "source": [
    "\n"
   ]
  }
 ],
 "metadata": {
  "kernelspec": {
   "display_name": "Python 3",
   "language": "python",
   "name": "python3"
  },
  "language_info": {
   "codemirror_mode": {
    "name": "ipython",
    "version": 3
   },
   "file_extension": ".py",
   "mimetype": "text/x-python",
   "name": "python",
   "nbconvert_exporter": "python",
   "pygments_lexer": "ipython3",
   "version": "3.8.2"
  }
 },
 "nbformat": 4,
 "nbformat_minor": 4
}
