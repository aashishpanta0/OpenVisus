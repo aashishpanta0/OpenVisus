{
 "cells": [
  {
   "cell_type": "markdown",
   "metadata": {},
   "source": [
    "# Quick tour of OpenVisus in python\n"
   ]
  },
  {
   "cell_type": "markdown",
   "metadata": {},
   "source": [
    "### Define some utility functions:"
   ]
  },
  {
   "cell_type": "code",
   "execution_count": 1,
   "metadata": {},
   "outputs": [],
   "source": [
    "import os,sys\n",
    "\n",
    "# Here are commands to install a package (OpenVisus) directly from a jupyter notebook\n",
    "# after you install those once you can comment those comment\n",
    "# !{sys.executable} -m pip install numpy matplotlib OpenVisus"
   ]
  },
  {
   "cell_type": "code",
   "execution_count": 2,
   "metadata": {},
   "outputs": [],
   "source": [
    "from PIL import Image\n",
    "from urllib.request import urlopen\n",
    "import matplotlib.pyplot as plt\n",
    "import shutil\n",
    "\n",
    "def LoadImage(filename):\n",
    "\tif filename.startswith('http'):\n",
    "\t\tfilename=urlopen(filename) \n",
    "\treturn numpy.asarray(Image.open(filename))\n",
    "\n",
    "def ShowImage(data,width=10):\n",
    "\tratio=float(data.shape[1])/data.shape[0]\n",
    "\tfig = plt.figure(figsize = (width,width*ratio))\n",
    "\tax = fig.add_subplot(1,1,1)\n",
    "\tax.imshow(data, origin='lower')\n",
    "\tplt.show()"
   ]
  },
  {
   "cell_type": "markdown",
   "metadata": {},
   "source": [
    "### First import OpenVisus"
   ]
  },
  {
   "cell_type": "code",
   "execution_count": 5,
   "metadata": {},
   "outputs": [],
   "source": [
    "# sys.path.append(r\"C:\\projects\\OpenVisus\\build\\RelWithDebInfo\")\n",
    "from OpenVisus import *"
   ]
  },
  {
   "cell_type": "markdown",
   "metadata": {},
   "source": [
    "### Create an empty RGB dataset"
   ]
  },
  {
   "cell_type": "code",
   "execution_count": 10,
   "metadata": {},
   "outputs": [],
   "source": [
    "idx_filename='tmp/quick_tour/visus.idx'\n",
    "shutil.rmtree(os.path.dirname(idx_filename), ignore_errors=True)\n",
    "CreateIdx(url=idx_filename, dim=3, dims=[1025,512,256],fields=[Field('data','uint8[3]','row_major')])\n",
    "assert(os.path.isfile(idx_filename))"
   ]
  },
  {
   "cell_type": "markdown",
   "metadata": {},
   "source": [
    "### Create a 2d dataset from numpy array"
   ]
  },
  {
   "cell_type": "code",
   "execution_count": 13,
   "metadata": {},
   "outputs": [
    {
     "ename": "SystemError",
     "evalue": "Error in swig director code what Visus throwing exception where(C:\\projects\\OpenVisus\\Libs\\Db\\include\\Visus/Access.h:207) what(not supported) where C:\\projects\\OpenVisus\\build\\RelWithDebInfo\\VisusDbPyPYTHON_wrap.cxx : 28253 \n <no error?>",
     "output_type": "error",
     "traceback": [
      "\u001b[1;31m---------------------------------------------------------------------------\u001b[0m",
      "\u001b[1;31mSystemError\u001b[0m                               Traceback (most recent call last)",
      "Cell \u001b[1;32mIn[13], line 4\u001b[0m\n\u001b[0;32m      2\u001b[0m data\u001b[38;5;241m=\u001b[39mLoadImage(\u001b[38;5;124m'\u001b[39m\u001b[38;5;124mhttps://raw.githubusercontent.com/sci-visus/OpenVisus/master/datasets/cat/gray.png\u001b[39m\u001b[38;5;124m'\u001b[39m)\n\u001b[0;32m      3\u001b[0m shutil\u001b[38;5;241m.\u001b[39mrmtree(os\u001b[38;5;241m.\u001b[39mpath\u001b[38;5;241m.\u001b[39mdirname(idx_filename), ignore_errors\u001b[38;5;241m=\u001b[39m\u001b[38;5;28;01mTrue\u001b[39;00m)\n\u001b[1;32m----> 4\u001b[0m \u001b[43mCreateIdx\u001b[49m\u001b[43m(\u001b[49m\u001b[43murl\u001b[49m\u001b[38;5;241;43m=\u001b[39;49m\u001b[43midx_filename\u001b[49m\u001b[43m,\u001b[49m\u001b[43m \u001b[49m\u001b[43mdim\u001b[49m\u001b[38;5;241;43m=\u001b[39;49m\u001b[38;5;241;43m2\u001b[39;49m\u001b[43m,\u001b[49m\u001b[43m \u001b[49m\u001b[43mdata\u001b[49m\u001b[38;5;241;43m=\u001b[39;49m\u001b[43mdata\u001b[49m\u001b[43m)\u001b[49m\n\u001b[0;32m      5\u001b[0m \u001b[38;5;28;01massert\u001b[39;00m(os\u001b[38;5;241m.\u001b[39mpath\u001b[38;5;241m.\u001b[39misfile(idx_filename))\n",
      "File \u001b[1;32mC:\\projects\\OpenVisus\\build\\RelWithDebInfo\\OpenVisus\\dataset.py:114\u001b[0m, in \u001b[0;36mCreateIdx\u001b[1;34m(**args)\u001b[0m\n\u001b[0;32m    112\u001b[0m \tcompression\u001b[38;5;241m=\u001b[39margs[\u001b[38;5;124m\"\u001b[39m\u001b[38;5;124mcompression\u001b[39m\u001b[38;5;124m\"\u001b[39m] \u001b[38;5;28;01mif\u001b[39;00m \u001b[38;5;124m\"\u001b[39m\u001b[38;5;124mcompression\u001b[39m\u001b[38;5;124m\"\u001b[39m \u001b[38;5;129;01min\u001b[39;00m args \u001b[38;5;28;01melse\u001b[39;00m [\u001b[38;5;124m\"\u001b[39m\u001b[38;5;124mzip\u001b[39m\u001b[38;5;124m\"\u001b[39m]\n\u001b[0;32m    113\u001b[0m \t\u001b[38;5;28;01massert\u001b[39;00m \u001b[38;5;129;01mnot\u001b[39;00m db\u001b[38;5;241m.\u001b[39mdb\u001b[38;5;241m.\u001b[39midxfile\u001b[38;5;241m.\u001b[39marco\n\u001b[1;32m--> 114\u001b[0m \t\u001b[43mdb\u001b[49m\u001b[38;5;241;43m.\u001b[39;49m\u001b[43mdb\u001b[49m\u001b[38;5;241;43m.\u001b[39;49m\u001b[43mcompressDataset\u001b[49m\u001b[43m(\u001b[49m\u001b[43mcompression\u001b[49m\u001b[43m,\u001b[49m\u001b[43m \u001b[49m\u001b[43mbuffer\u001b[49m\u001b[43m)\u001b[49m\n\u001b[0;32m    116\u001b[0m \u001b[38;5;28;01mreturn\u001b[39;00m db\n",
      "File \u001b[1;32mC:\\projects\\OpenVisus\\build\\RelWithDebInfo\\OpenVisus\\VisusDbPy.py:988\u001b[0m, in \u001b[0;36mDataset.compressDataset\u001b[1;34m(self, *args)\u001b[0m\n\u001b[0;32m    987\u001b[0m \u001b[38;5;28;01mdef\u001b[39;00m \u001b[38;5;21mcompressDataset\u001b[39m(\u001b[38;5;28mself\u001b[39m, \u001b[38;5;241m*\u001b[39margs):\n\u001b[1;32m--> 988\u001b[0m     \u001b[38;5;28;01mreturn\u001b[39;00m \u001b[43m_VisusDbPy\u001b[49m\u001b[38;5;241;43m.\u001b[39;49m\u001b[43mDataset_compressDataset\u001b[49m\u001b[43m(\u001b[49m\u001b[38;5;28;43mself\u001b[39;49m\u001b[43m,\u001b[49m\u001b[43m \u001b[49m\u001b[38;5;241;43m*\u001b[39;49m\u001b[43margs\u001b[49m\u001b[43m)\u001b[49m\n",
      "\u001b[1;31mSystemError\u001b[0m: Error in swig director code what Visus throwing exception where(C:\\projects\\OpenVisus\\Libs\\Db\\include\\Visus/Access.h:207) what(not supported) where C:\\projects\\OpenVisus\\build\\RelWithDebInfo\\VisusDbPyPYTHON_wrap.cxx : 28253 \n <no error?>"
     ]
    }
   ],
   "source": [
    "idx_filename='tmp/quick_tour/visus.idx'\n",
    "data=LoadImage('https://raw.githubusercontent.com/sci-visus/OpenVisus/master/datasets/cat/gray.png')\n",
    "shutil.rmtree(os.path.dirname(idx_filename), ignore_errors=True)\n",
    "CreateIdx(url=idx_filename, dim=2, data=data)\n",
    "assert(os.path.isfile(idx_filename))"
   ]
  },
  {
   "cell_type": "markdown",
   "metadata": {},
   "source": [
    "### Create a 3d dataset from numpy array"
   ]
  },
  {
   "cell_type": "code",
   "execution_count": null,
   "metadata": {},
   "outputs": [],
   "source": [
    "data=numpy.zeros((100,100,100,3),dtype=numpy.float32) \n",
    "shutil.rmtree(os.path.dirname(idx_filename), ignore_errors=True)\n",
    "CreateIdx(url=idx_filename, dim=3, data=data)\n",
    "assert(os.path.isfile(idx_filename))"
   ]
  },
  {
   "cell_type": "markdown",
   "metadata": {},
   "source": [
    "### Create a 3d datasets from 2d slices"
   ]
  },
  {
   "cell_type": "code",
   "execution_count": null,
   "metadata": {},
   "outputs": [],
   "source": [
    "data=LoadImage('https://raw.githubusercontent.com/sci-visus/OpenVisus/master/datasets/cat/rgb.png')\n",
    "height,width=data.shape[0],data.shape[1]\n",
    "\n",
    "# replicate one 2d images 10 times\n",
    "depth=10\n",
    "\n",
    "def generateSlices():\n",
    "    for I in range(depth): \n",
    "        yield data\n",
    "\n",
    "shutil.rmtree(os.path.dirname(idx_filename), ignore_errors=True)    \n",
    "db=CreateIdx(url=idx_filename, dims=[width,height,depth],fields=[Field('data','uint8[3]','row_major')])\n",
    "db.writeSlabs(generateSlices())"
   ]
  },
  {
   "cell_type": "markdown",
   "metadata": {},
   "source": [
    "### Read a single slice"
   ]
  },
  {
   "cell_type": "code",
   "execution_count": null,
   "metadata": {},
   "outputs": [],
   "source": [
    "data=db.read(z=[0,1])[0,:,:]\n",
    "ShowImage(data)"
   ]
  },
  {
   "cell_type": "markdown",
   "metadata": {},
   "source": [
    "### Read stuff in one shot at full resolution"
   ]
  },
  {
   "cell_type": "code",
   "execution_count": null,
   "metadata": {},
   "outputs": [],
   "source": [
    "db=LoadDataset('http://atlantis.sci.utah.edu/mod_visus?dataset=david_subsampled')\n",
    "data=db.read(x=[10000,11000],y=[10000,11000])\n",
    "ShowImage(data)"
   ]
  },
  {
   "cell_type": "markdown",
   "metadata": {},
   "source": [
    "### Show image coarse to fine"
   ]
  },
  {
   "cell_type": "code",
   "execution_count": null,
   "metadata": {},
   "outputs": [],
   "source": [
    "db=LoadDataset('http://atlantis.sci.utah.edu/mod_visus?dataset=2kbit1')\n",
    "for data in db.read(x=[0,2048],y=[0,2048],z=[1024,1025], num_refinements=3, quality=-9):\n",
    "    ShowImage(data[0,:,:])"
   ]
  },
  {
   "cell_type": "markdown",
   "metadata": {},
   "source": [
    "### Get data in normalized coordinates"
   ]
  },
  {
   "cell_type": "code",
   "execution_count": null,
   "metadata": {},
   "outputs": [],
   "source": [
    "db=LoadDataset('http://atlantis.sci.utah.edu/mod_visus?dataset=david_subsampled')\n",
    "data=db.read(x=[0.35,0.45],y=[0.8,0.9],quality=-8)\n",
    "print(data.shape,data.dtype)\n",
    "ShowImage(data)"
   ]
  },
  {
   "cell_type": "markdown",
   "metadata": {},
   "source": [
    "### Start a local visus server for one dataset"
   ]
  },
  {
   "cell_type": "code",
   "execution_count": null,
   "metadata": {},
   "outputs": [],
   "source": [
    "shutil.rmtree(os.path.dirname(idx_filename), ignore_errors=True) \n",
    "CreateIdx(\n",
    "    url=idx_filename, \n",
    "    dim=2,\n",
    "    blockperfile=-1,\n",
    "    filename_template=\"./visus.bin\", \n",
    "    data=LoadImage('https://raw.githubusercontent.com/sci-visus/OpenVisus/master/datasets/cat/rgb.png'))\n",
    "\n",
    "modvisus = ModVisus()\n",
    "\n",
    "port=10000\n",
    "modvisus.configureDatasets(ConfigFile.fromString('''\n",
    "<visus>\n",
    "  <datasets>\n",
    "    <dataset name='default' url='tmp/quick_tour/visus.idx' permissions='public' />\n",
    "  </datasets>\n",
    "</visus>\n",
    "'''))\n",
    "server=NetServer(port, modvisus)\n",
    "\n",
    "server.runInBackground()\n",
    "\n",
    "body=urlopen('http://127.0.0.1:{}/mod_visus?action=read_dataset&dataset=default'.format(port)).read().decode('utf8')\n",
    "print(body)\n",
    "\n",
    "server.signalExit()\n",
    "server.waitForExit()\n",
    "print('server done')"
   ]
  },
  {
   "cell_type": "code",
   "execution_count": null,
   "metadata": {},
   "outputs": [],
   "source": []
  }
 ],
 "metadata": {
  "kernelspec": {
   "display_name": "Python 3 (ipykernel)",
   "language": "python",
   "name": "python3"
  },
  "language_info": {
   "codemirror_mode": {
    "name": "ipython",
    "version": 3
   },
   "file_extension": ".py",
   "mimetype": "text/x-python",
   "name": "python",
   "nbconvert_exporter": "python",
   "pygments_lexer": "ipython3",
   "version": "3.9.9"
  }
 },
 "nbformat": 4,
 "nbformat_minor": 2
}
