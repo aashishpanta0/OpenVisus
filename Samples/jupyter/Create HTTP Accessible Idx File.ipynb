{
 "cells": [
  {
   "cell_type": "code",
   "execution_count": 1,
   "id": "d7b27606",
   "metadata": {},
   "outputs": [
    {
     "name": "stdout",
     "output_type": "stream",
     "text": [
      "Starting OpenVisus C:\\Users\\klacansky\\AppData\\Local\\Programs\\Python\\Python310\\lib\\site-packages\\OpenVisus\\__init__.py 3.10.8 (tags/v3.10.8:aaaf517, Oct 11 2022, 16:50:30) [MSC v.1933 64 bit (AMD64)] sys.version_info(major=3, minor=10, micro=8, releaselevel='final', serial=0) ...\n"
     ]
    }
   ],
   "source": [
    "import http.server\n",
    "import threading\n",
    "import numpy as np\n",
    "import urllib.request\n",
    "import OpenVisus as ov"
   ]
  },
  {
   "cell_type": "code",
   "execution_count": 2,
   "id": "a40e2698",
   "metadata": {},
   "outputs": [
    {
     "data": {
      "text/plain": [
       "('hydrogen_atom_128x128x128_uint8.raw',\n",
       " <http.client.HTTPMessage at 0x1ff75de6ec0>)"
      ]
     },
     "execution_count": 2,
     "metadata": {},
     "output_type": "execute_result"
    }
   ],
   "source": [
    "urllib.request.urlretrieve('https://klacansky.com/open-scivis-datasets/hydrogen_atom/hydrogen_atom_128x128x128_uint8.raw', 'hydrogen_atom_128x128x128_uint8.raw')"
   ]
  },
  {
   "cell_type": "code",
   "execution_count": 3,
   "id": "6200c343",
   "metadata": {},
   "outputs": [],
   "source": [
    "data = np.fromfile('hydrogen_atom_128x128x128_uint8.raw', dtype=np.uint8).reshape(128, 128, 128)"
   ]
  },
  {
   "cell_type": "code",
   "execution_count": 4,
   "id": "781c0599",
   "metadata": {},
   "outputs": [],
   "source": [
    "db = ov.CreateIdx(url=\"hydrogen_atom.idx\", dims=list(reversed(data.shape)), fields=[ov.Field('data','uint8')], arco='1mb')\n",
    "db.write(data)"
   ]
  },
  {
   "cell_type": "code",
   "execution_count": 5,
   "id": "90d683e3",
   "metadata": {},
   "outputs": [],
   "source": [
    "def run():\n",
    "    PORT = 8000\n",
    "    Handler = http.server.SimpleHTTPRequestHandler\n",
    "    with http.server.socketserver.TCPServer((\"\", PORT), Handler) as httpd:\n",
    "        httpd.serve_forever()\n",
    "\n",
    "threading.Thread(target=run).start()"
   ]
  },
  {
   "cell_type": "code",
   "execution_count": 6,
   "id": "4ce7bf99",
   "metadata": {},
   "outputs": [
    {
     "name": "stderr",
     "output_type": "stream",
     "text": [
      "127.0.0.1 - - [26/Nov/2022 14:19:37] \"GET /hydrogen_atom.idx HTTP/1.1\" 200 -\n",
      "127.0.0.1 - - [26/Nov/2022 14:19:37] \"GET /hydrogen_atom/0/data/0000/0000/0000/0001.bin HTTP/1.1\" 200 -\n",
      "127.0.0.1 - - [26/Nov/2022 14:19:37] \"GET /hydrogen_atom/0/data/0000/0000/0000/0000.bin HTTP/1.1\" 200 -\n"
     ]
    }
   ],
   "source": [
    "db = ov.LoadDataset('http://localhost:8000/hydrogen_atom.idx')\n",
    "data_ = db.read()"
   ]
  },
  {
   "cell_type": "code",
   "execution_count": 7,
   "id": "aafe6c33",
   "metadata": {},
   "outputs": [],
   "source": [
    "assert (data == data_).all()"
   ]
  }
 ],
 "metadata": {
  "kernelspec": {
   "display_name": "Python 3 (ipykernel)",
   "language": "python",
   "name": "python3"
  },
  "language_info": {
   "codemirror_mode": {
    "name": "ipython",
    "version": 3
   },
   "file_extension": ".py",
   "mimetype": "text/x-python",
   "name": "python",
   "nbconvert_exporter": "python",
   "pygments_lexer": "ipython3",
   "version": "3.10.8"
  }
 },
 "nbformat": 4,
 "nbformat_minor": 5
}
