{
 "cells": [
  {
   "cell_type": "markdown",
   "id": "426660b6",
   "metadata": {},
   "source": [
    "# Distribution of the data related by the following paper: \n",
    "\n",
    "### Investigating the effect of grain structure on compressive response of open-cell metal foam using high-fidelity crystal-plasticity modeling \n",
    "\n",
    "__Authors:__  _Dongfang Zhao, Kristoffer E. Matheson, Brian R. Phung, Steve Petruzza, Michael W. Czabaj, Ashley D. Spear_ \n",
    "\n",
    "__Published in:__  Materials Science and Engineering, Volume 812, 2021, 140847, ISSN 0921-5093\n",
    "\n",
    "https://doi.org/10.1016/j.msea.2021.140847\n",
    "\n",
    "https://www.sciencedirect.com/science/article/pii/S0921509321001167"
   ]
  },
  {
   "cell_type": "code",
   "execution_count": null,
   "id": "fb837105",
   "metadata": {},
   "outputs": [],
   "source": [
    "def InstallPrerequisites():\n",
    "\n",
    "    # Pre-requirements: install all the python libraries needed to run this exemple.\n",
    "    # You may need to restart the kernel if the process catches a missing library to be installed. \n",
    "    import os,sys\n",
    "\n",
    "    # specific prerequisite (this may need to be completed)\n",
    "    !\"{sys.executable}\" -m pip  install --upgrade OpenVisus\n",
    "    !\"{sys.executable}\" -m OpenVisus configure \n",
    "\n",
    "    # general prerequisites\n",
    "    !\"{sys.executable}\" -m pip install PIL\n",
    "    !\"{sys.executable}\" -m pip install urllib\n",
    "    !\"{sys.executable}\" -m pip install matplotlib\n",
    "    !\"{sys.executable}\" -m pip install mpl_interactions\n",
    "    !\"{sys.executable}\" -m pip install ipywidgets\n",
    "    !\"{sys.executable}\" -m pip install ipympl \n",
    "    !\"{sys.executable}\" -m pip install ipycanvas\n",
    "    !\"{sys.executable}\" -m jupyter nbextension enable --py widgetsnbextension\n",
    "\n",
    "    print(\"WARNING: you probably need to restart Jupyter\")\n",
    "    \n",
    "InstallPrerequisites()"
   ]
  },
  {
   "cell_type": "code",
   "execution_count": 2,
   "id": "1fd28bd1",
   "metadata": {},
   "outputs": [
    {
     "name": "stdout",
     "output_type": "stream",
     "text": [
      "Starting OpenVisus C:\\projects\\OpenVisus\\build\\RelWithDebInfo\\OpenVisus\\__init__.py 3.8.6 (tags/v3.8.6:db45529, Sep 23 2020, 15:52:53) [MSC v.1927 64 bit (AMD64)] sys.version_info(major=3, minor=8, micro=6, releaselevel='final', serial=0) ...\n",
      "C:\\projects\\OpenVisus\\Samples\\jupyter\n"
     ]
    }
   ],
   "source": [
    "import os,sys\n",
    "#sys.path.append(r\"C:\\projects\\OpenVisus\\build\\RelWithDebInfo\")\n",
    "from OpenVisus import *\n",
    "from ipywidgets import *\n",
    "print(os.getcwd() )"
   ]
  },
  {
   "cell_type": "code",
   "execution_count": 17,
   "id": "22d65f85",
   "metadata": {},
   "outputs": [
    {
     "name": "stdout",
     "output_type": "stream",
     "text": [
      "Utilities defined\n"
     ]
    }
   ],
   "source": [
    "from PIL import Image\n",
    "from urllib.request import urlopen\n",
    "import matplotlib.pyplot as plt\n",
    "\n",
    "def Assert(cond):\n",
    "    if not cond:\n",
    "        raise Exception(\"Assert failed\")\n",
    "        \n",
    "def LoadImage(filename):\n",
    "\tif filename.startswith('http'):\n",
    "\t\tfilename=urlopen(filename) \n",
    "\treturn numpy.asarray(Image.open(filename))\n",
    "\n",
    "def ShowImage(data,width=10):\n",
    "\tratio=float(data.shape[1])/data.shape[0]\n",
    "\tfig = plt.figure(figsize = (width,width*ratio))\n",
    "\tax = fig.add_subplot(1,1,1)\n",
    "\tax.imshow(data, origin='lower')\n",
    "\tplt.show()\n",
    "    \n",
    "# function to read data from a remote dataset\n",
    "# optional parameters: timestep, field (variable in the dataset), logic_box (bounding box of the query), resolution\n",
    "\n",
    "# Note: the resolution value could sometime fetch a dataset with the wrong aspect ratio, \n",
    "# this because in the IDX format we double the size at each resolution on only one of the axis at a time\n",
    "\n",
    "# function to plot the image data with matplotlib\n",
    "# optional parameters: colormap, existing plot to reuse (for more interactivity)\n",
    "def ShowData(data, cmap=None, plot=None):\n",
    "    #print(data)\n",
    "    if(plot==None or cmap!=None):\n",
    "        width = 6\n",
    "        ratio=float(data.shape[1])/data.shape[0]\n",
    "        fig = plt.figure(figsize = (width,width*ratio))\n",
    "        plot = plt.imshow(data, origin='lower', cmap=cmap)\n",
    "        plt.show()\n",
    "        return plot\n",
    "    else:\n",
    "        plot.set_data(data)\n",
    "        plt.show()\n",
    "        return plot\n",
    "    \n",
    "\n",
    "# function to create a local dataset from a remote one (typically S3 object storage)\n",
    "def EnableCaching(local_filename, remote_url):\n",
    "\n",
    "    print(\"local_filename\",local_filename)\n",
    "    print(\"remote_url\",remote_url)\n",
    "\n",
    "    access_config=\"\"\"\n",
    "    <access type='multiplex'>\n",
    "            <access type='disk' chmod='rw' url='file://{}' />\n",
    "            <access type=\"CloudStorageAccess\" url='{}' chmod=\"r\" /> \n",
    "    </access>  \n",
    "    \"\"\".format(\n",
    "        local_filename.replace(\"&\",\"&amp;\"),\n",
    "        remote_url.replace(\"&\",\"&amp;\")) \n",
    "    print(\"access_config\",access_config)\n",
    "\n",
    "    access= db.createAccessForBlockQuery(StringTree.fromString(access_config))\n",
    "\n",
    "    # at this point the cache is enabled with the new local idx file\n",
    "    Assert(os.path.isfile(local_filename))\n",
    "\n",
    "    return access\n",
    "    \n",
    "    \n",
    "# utility to copy a dataset block-by block (you can run it in the background)\n",
    "def CacheAllDataset(db,access, limit, background):\n",
    "    \n",
    "    if background:\n",
    "        thread = threading.Thread(target=CacheAllDataset, args=(db,access,limit,False))\n",
    "        thread.start()        \n",
    "        return thread\n",
    "    \n",
    "    print(\"CacheAllDataset\",\"...\")\n",
    "        \n",
    "    def ReturnValue():\n",
    "        access.endRead()\n",
    "        print(\"CacheAllDataset done\")\n",
    "        return True\n",
    "        \n",
    "    access.beginRead()\n",
    "        \n",
    "    cont=0\n",
    "    for time in db.getTimesteps().asVector():\n",
    "        for field in db.getFields():\n",
    "            for blockid in range(db.getTotalNumberOfBlocks()):\n",
    "                # print(\"Copying block\",\"time\",time,\"field\",field,\"blockid\",blockid,\"...\")\n",
    "                buffer = db.readBlock(blockid, field=field, time=time, access=access)\n",
    "                cont+=1\n",
    "                if limit>0 and cont>=limit: \n",
    "                    return ReturnValue()\n",
    "                \n",
    "    return ReturnValue()\n",
    "    \n",
    "    \n",
    "print(\"Utilities defined\")"
   ]
  },
  {
   "cell_type": "code",
   "execution_count": 15,
   "id": "ed6f7b2c",
   "metadata": {},
   "outputs": [
    {
     "name": "stdout",
     "output_type": "stream",
     "text": [
      "Loaded dataset https://s3.us-west-1.wasabisys.com/visus-server-foam/visus.idx?compression=zip&layout=hzorder\n",
      "local_filename C:/projects/OpenVisus/Samples/jupyter/visus-cache/foam/visus.idx\n"
     ]
    }
   ],
   "source": [
    "# create data access method from a dataset stored on the cloud\n",
    "# important: you should know the layour and compression in advance\n",
    "url=\"https://s3.us-west-1.wasabisys.com/visus-server-foam/visus.idx?compression={}&layout={}\".format(\"zip\",\"hzorder\")\n",
    "db=LoadDataset(url)\n",
    "print(\"Loaded dataset\",url)\n",
    "\n",
    "local_filename=os.path.abspath(\"./visus-cache/foam/visus.idx\").replace(\"\\\\\",\"/\")\n",
    "print(\"local_filename\",local_filename)"
   ]
  },
  {
   "cell_type": "markdown",
   "id": "169db9d1",
   "metadata": {},
   "source": [
    "Now you can run a background process that slowly copy blocks from remote location"
   ]
  },
  {
   "cell_type": "code",
   "execution_count": 18,
   "id": "aaed5c21",
   "metadata": {},
   "outputs": [
    {
     "name": "stdout",
     "output_type": "stream",
     "text": [
      "local_filename C:/projects/OpenVisus/Samples/jupyter/visus-cache/foam/visus.idx\n",
      "remote_url https://s3.us-west-1.wasabisys.com/visus-server-foam/visus.idx?compression=zip&layout=hzorder\n",
      "access_config \n",
      "    <access type='multiplex'>\n",
      "            <access type='disk' chmod='rw' url='file://C:/projects/OpenVisus/Samples/jupyter/visus-cache/foam/visus.idx' />\n",
      "            <access type=\"CloudStorageAccess\" url='https://s3.us-west-1.wasabisys.com/visus-server-foam/visus.idx?compression=zip&amp;layout=hzorder' chmod=\"r\" /> \n",
      "    </access>  \n",
      "    \n",
      "CacheAllDataset ...\n"
     ]
    }
   ],
   "source": [
    "# if you want to copy the dataset in background\n",
    "if True:\n",
    "    # this create also the local_filename, important to call this before LoadDataset\n",
    "    local_access=EnableCaching(local_filename, url) \n",
    "    local_db=LoadDataset(local_filename)\n",
    "    thread=CacheAllDataset(local_db,local_access,0,True)"
   ]
  },
  {
   "cell_type": "code",
   "execution_count": 9,
   "id": "ea1a4116",
   "metadata": {},
   "outputs": [
    {
     "name": "stdout",
     "output_type": "stream",
     "text": [
      "Database size 1055 1024 1024\n",
      "slice_value 512\n",
      "fields: ['data', 'dist']\n"
     ]
    }
   ],
   "source": [
    "X_size,Y_size,Z_size = db.getLogicBox()[1]\n",
    "slice_value = int(Z_size/2)\n",
    "\n",
    "print(\"Database size\",X_size,Y_size,Z_size )\n",
    "print(\"slice_value\",slice_value)\n",
    "print(\"fields:\",db.getFields())"
   ]
  },
  {
   "cell_type": "code",
   "execution_count": null,
   "id": "4087f5e7",
   "metadata": {},
   "outputs": [],
   "source": [
    "# create a plot for our data\n",
    "access=EnableCaching(local_filename, url)\n",
    "first_query = db.read(x=[slice_value,slice_value+1],y=[0,Y_size],z=[0,Z_size], num_refinements=1 , quality=-3, access = access).reshape([Y_size//2,Z_size//2])\n",
    "print(\"First query done\")"
   ]
  },
  {
   "cell_type": "code",
   "execution_count": null,
   "id": "66a64bb2",
   "metadata": {},
   "outputs": [],
   "source": [
    "# if running this code in a Jupter notbeook or JupyterLab\n",
    "# NOTE I need this cell to be one line only with only this op\n",
    "%matplotlib notebook "
   ]
  },
  {
   "cell_type": "code",
   "execution_count": null,
   "id": "d7287244",
   "metadata": {},
   "outputs": [],
   "source": [
    "# create a plot for our data\n",
    "myplot = ShowData(first_query)\n",
    "slice_dir = 0\n",
    "resolution = 2\n",
    "#myplot = None\n",
    "width = 6\n",
    "#ratio=float(data.shape[2])/data.shape[1])\n",
    "#fig = plt.figure(figsize = (width,width*ratio))\n",
    "\n",
    "time  =widgets.IntSlider(value=0,min=0,max=3,step=1)\n",
    "direction = widgets.Dropdown(options=[('X', 0), ('Y', 1), ('Z', 2)], value=0,description='Slice orthogonal to axis:')\n",
    "xslice=widgets.IntSlider(value=500,min=0,max=X_size-1,step=1,description=\"slice\")\n",
    "res_widget =widgets.IntSlider(value=-2,min=-5,max=0,step=1,description=\"Resolution\")\n",
    "\n",
    "# function to plot the image data with matplotlib\n",
    "# optional parameters: colormap, existing plot to reuse (for more interactivity)\n",
    "def ShowSlice(time=0,direction = slice_dir,slice_position=700,new_resolution = resolution,db=db, cmap=None, plot=myplot):\n",
    "    global myplot, first_query, slice_dir, xslice, resolution\n",
    "    plot = myplot\n",
    "    print (time,direction,slice_position,new_resolution,db, cmap, plot)\n",
    "    if  slice_dir != direction :    \n",
    "        #print(\"Direction changed from \", slice_dir,\" to \", direction)\n",
    "        xslice.max = db.getLogicBox()[1][direction]-1        \n",
    "        xslice.value = 512\n",
    "        \n",
    "    slice_dir  = direction\n",
    "    resolution = new_resolution\n",
    "    \n",
    "    #print(time,slice_dir,slice_position+1)\n",
    "    #print  (time, slice_dir,[slice_position,slice_position+1],[0,Y_size],[0,Z_size])\n",
    "    data_quality = resolution *2\n",
    "    New_quality = new_resolution*3\n",
    "    size_denominator = int(2**(new_resolution*-1))\n",
    "    \n",
    "    actual_slice_position = slice_position //size_denominator\n",
    "    actual_slice_position = actual_slice_position *size_denominator\n",
    "    \n",
    "    print(\"> \",New_quality,size_denominator,actual_slice_position)\n",
    "    try:\n",
    "        if  slice_dir == 0:  \n",
    "                data = db.read(time=time, \n",
    "                    x=[actual_slice_position,actual_slice_position+1],\n",
    "                    y=[0,Y_size],\n",
    "                    z=[0,Z_size], \n",
    "                    num_refinements=1 , \n",
    "                    quality=New_quality, \n",
    "                    access = access).reshape([Y_size//size_denominator,Z_size//size_denominator])\n",
    "        elif slice_dir == 1:\n",
    "                data = db.read(time=time, \n",
    "                    x=[0,Y_size],\n",
    "                    y=[actual_slice_position,actual_slice_position+1],\n",
    "                    z=[0,Z_size], \n",
    "                    num_refinements=1 , \n",
    "                    quality=New_quality, \n",
    "                    access = access).reshape([Y_size//size_denominator,Z_size//size_denominator])\n",
    "        else :\n",
    "                data = db.read(time=time, \n",
    "                    x=[0,Y_size],\n",
    "                    y=[0,Z_size], \n",
    "                    z=[actual_slice_position,actual_slice_position+1],\n",
    "                    num_refinements=1 , \n",
    "                    quality=New_quality, \n",
    "                    access = access).reshape([Y_size//size_denominator,Z_size//size_denominator])\n",
    "            \n",
    "    except:\n",
    "        data = first_query\n",
    "    first_query = data\n",
    "    #print(data)\n",
    "    if(plot==None or cmap!=None):\n",
    "        print(\"===================== PROBLEM!!!! =======================================\")\n",
    "        return plot\n",
    "    else:\n",
    "        #print(\"++++++++++++++++++++++++++++++++++++++++++++++++++++++++++++++++++++++\")\n",
    "        #plot.\n",
    "        plot.set_data(data)\n",
    "        plt.show()\n",
    "        return plot\n",
    "\n",
    "# reuse the plot with an interact for varying time and resolution values\n",
    "interact(lambda time, direction,xslice, res_widget: showSlice(time, direction,xslice, res_widget), \n",
    "         time  = time, direction = direction, xslice=xslice, res_widget = res_widget)"
   ]
  },
  {
   "cell_type": "code",
   "execution_count": null,
   "id": "c1265fc0",
   "metadata": {},
   "outputs": [],
   "source": []
  }
 ],
 "metadata": {
  "kernelspec": {
   "display_name": "Python 3",
   "language": "python",
   "name": "python3"
  },
  "language_info": {
   "codemirror_mode": {
    "name": "ipython",
    "version": 3
   },
   "file_extension": ".py",
   "mimetype": "text/x-python",
   "name": "python",
   "nbconvert_exporter": "python",
   "pygments_lexer": "ipython3",
   "version": "3.8.6"
  }
 },
 "nbformat": 4,
 "nbformat_minor": 5
}
