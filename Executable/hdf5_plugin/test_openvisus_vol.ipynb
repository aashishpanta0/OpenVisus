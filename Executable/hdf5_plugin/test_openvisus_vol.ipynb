{
 "cells": [
  {
   "cell_type": "code",
   "execution_count": null,
   "id": "424f483c",
   "metadata": {},
   "outputs": [
    {
     "name": "stdout",
     "output_type": "stream",
     "text": [
      "Requirement already satisfied: tables in c:\\python38\\lib\\site-packages (3.6.1)\n",
      "Requirement already satisfied: numpy>=1.9.3 in c:\\python38\\lib\\site-packages (from tables) (1.21.1)\n",
      "Requirement already satisfied: numexpr>=2.6.2 in c:\\python38\\lib\\site-packages (from tables) (2.7.3)\n"
     ]
    },
    {
     "name": "stderr",
     "output_type": "stream",
     "text": [
      "WARNING: You are using pip version 20.2.3; however, version 21.2.4 is available.\n",
      "You should consider upgrading via the 'c:\\python38\\python.exe -m pip install --upgrade pip' command.\n"
     ]
    }
   ],
   "source": [
    "!pip install tables\n",
    "!pip install h5py\n",
    "\n",
    "import os,sys,numpy as np\n",
    "\n",
    "%matplotlib inline\n",
    "import matplotlib.pyplot as plt"
   ]
  },
  {
   "cell_type": "markdown",
   "id": "111c87f7",
   "metadata": {},
   "source": [
    "Activate the OpenVisus HDF5 vol connector"
   ]
  },
  {
   "cell_type": "code",
   "execution_count": null,
   "id": "5e3a339e",
   "metadata": {},
   "outputs": [],
   "source": [
    "%env HDF5_PLUGIN_PATH=C:\\projects\\OpenVisus\\build\\RelWithDebInfo\\OpenVisus\\bin\n",
    "%env HDF5_VOL_CONNECTOR=openvisus_vol under_vol=0;under_info={};\n",
    "%env PYTHONPATH=C:\\projects\\OpenVisus\\build\\RelWithDebInfo\n",
    "\n",
    "import sys\n",
    "sys.path.append(r\"C:\\projects\\OpenVisus\\build\\RelWithDebInfo\")\n",
    "sys.path.append(r\"C:\\projects\\OpenVisus\\build\\RelWithDebInfo\\OpenVisus\\bin\")\n",
    "import h5py\n",
    "\n",
    "# NOTE you should see a message like \"openvisus_vol_init\" in the console"
   ]
  },
  {
   "cell_type": "markdown",
   "id": "08f98b94",
   "metadata": {},
   "source": [
    "Create an HDF5 which points to an idx (NOTE: since the *.idx file already exists it wont be overwritten)"
   ]
  },
  {
   "cell_type": "code",
   "execution_count": null,
   "id": "5f5eaf62",
   "metadata": {},
   "outputs": [],
   "source": [
    "idx_filename=r\"D:\\GoogleSci\\visus_dataset\\2kbit1\\zip\\rowmajor\\visus.idx\"\n",
    "h5_filename=os.path.splitext(idx_filename)[0] +\".h5\"\n",
    "\n",
    "with h5py.File(h5_filename, \"w\") as f:\n",
    "  group = f.create_group(\"group\")\n",
    "  dataset = group.create_dataset(idx_filename, shape=list(reversed([2048,2048,2048])), dtype=np.uint8)"
   ]
  },
  {
   "cell_type": "markdown",
   "id": "7d62d0bb",
   "metadata": {},
   "source": [
    "Read the HDF5 (i.e. read from OpenVisus IDX)"
   ]
  },
  {
   "cell_type": "code",
   "execution_count": null,
   "id": "2009010c",
   "metadata": {},
   "outputs": [],
   "source": [
    "with h5py.File(h5_filename,'r') as f:\n",
    "    dataset=f[\"group\"][idx_filename]\n",
    "    print(repr(dataset))\n",
    "    data=dataset[1024,500:600,500:600]\n",
    "    print(data.shape,data.dtype)\n",
    "    plt.imshow(data,cmap='gray')"
   ]
  },
  {
   "cell_type": "code",
   "execution_count": null,
   "id": "f2aa56f1",
   "metadata": {},
   "outputs": [],
   "source": []
  }
 ],
 "metadata": {
  "kernelspec": {
   "display_name": "Python 3",
   "language": "python",
   "name": "python3"
  },
  "language_info": {
   "codemirror_mode": {
    "name": "ipython",
    "version": 3
   },
   "file_extension": ".py",
   "mimetype": "text/x-python",
   "name": "python",
   "nbconvert_exporter": "python",
   "pygments_lexer": "ipython3",
   "version": "3.8.6"
  }
 },
 "nbformat": 4,
 "nbformat_minor": 5
}
